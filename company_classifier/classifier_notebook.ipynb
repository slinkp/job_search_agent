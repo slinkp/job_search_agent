{
 "cells": [
  {
   "cell_type": "markdown",
   "id": "52f977f7-25d4-47a4-ad94-83305540dc62",
   "metadata": {},
   "source": [
    "## Company classifier notebook\n",
    "\n",
    "This is for experimenting with the company fit classifier.\n",
    "Visualizations, etc can go here."
   ]
  },
  {
   "cell_type": "code",
   "execution_count": 1,
   "id": "2f419477-ffd6-42df-830f-f6e44e03466e",
   "metadata": {},
   "outputs": [
    {
     "name": "stdout",
     "output_type": "stream",
     "text": [
      "hello world\n"
     ]
    }
   ],
   "source": [
    "print(\"hello world\")"
   ]
  },
  {
   "cell_type": "markdown",
   "id": "a5dfe8ee-aa5f-49a9-b9b7-486f73765606",
   "metadata": {},
   "source": [
    "### Setup and Imports"
   ]
  },
  {
   "cell_type": "code",
   "execution_count": 2,
   "id": "ea258ccc-a70c-46ad-8411-5455a0d16ae3",
   "metadata": {},
   "outputs": [],
   "source": [
    "import sys\n",
    "import os\n",
    "# Add parent directory to Python path so we can import company_classifier\n",
    "sys.path.append(os.path.dirname(os.getcwd()))\n",
    "\n",
    "import numpy as np\n",
    "import pandas as pd\n",
    "import matplotlib.pyplot as plt\n",
    "from sklearn.metrics import classification_report\n",
    "from sklearn.model_selection import train_test_split\n",
    "\n",
    "from company_classifier.classifier import (\n",
    "    BAD_FIT,\n",
    "    GOOD_FIT,\n",
    "    NEED_MORE_INFO,\n",
    "    CompanyClassifier,\n",
    ")"
   ]
  },
  {
   "cell_type": "markdown",
   "id": "08ccad5f-9920-487c-88ae-530181fdb87a",
   "metadata": {},
   "source": [
    "### Load and Prepare Data"
   ]
  },
  {
   "cell_type": "code",
   "execution_count": 3,
   "id": "2dfa3063-911b-4b6e-88e2-2322685c3c62",
   "metadata": {},
   "outputs": [],
   "source": [
    "labels = {\n",
    "    GOOD_FIT: \"Good fit\",\n",
    "    BAD_FIT: \"Bad fit\",\n",
    "    NEED_MORE_INFO: \"Need more info\",\n",
    "}"
   ]
  },
  {
   "cell_type": "code",
   "execution_count": 4,
   "id": "03b06ec7-af43-44bc-a904-215ee11bd7cd",
   "metadata": {},
   "outputs": [
    {
     "name": "stdout",
     "output_type": "stream",
     "text": [
      "Dataset size: 48 companies\n",
      "\n",
      "Class distribution:\n",
      "Bad fit: 13\n",
      "Good fit: 13\n",
      "Need more info: 22\n"
     ]
    }
   ],
   "source": [
    "def load_real_data(csv_path: str) -> tuple[pd.DataFrame, np.ndarray]:\n",
    "    \"\"\"Load and prepare real company data.\"\"\"\n",
    "    df = pd.read_csv(csv_path)\n",
    "\n",
    "    # Map text categories to numeric values\n",
    "    category_map = {\"good\": GOOD_FIT, \"bad\": BAD_FIT, \"needs_more_info\": NEED_MORE_INFO}\n",
    "\n",
    "    # Extract features used by our classifier\n",
    "    X = df[\n",
    "        [\n",
    "            \"type\",\n",
    "            \"total_comp\",\n",
    "            \"base\",\n",
    "            \"rsu\",\n",
    "            \"bonus\",\n",
    "            \"remote_policy\",\n",
    "            \"eng_size\",\n",
    "            \"total_size\",\n",
    "        ]\n",
    "    ]\n",
    "\n",
    "    # Convert fit categories to numeric values\n",
    "    y = df[\"fit_category\"].map(category_map).to_numpy()\n",
    "\n",
    "    return X, y\n",
    "\n",
    "# Load the data\n",
    "X, y = load_real_data(\"../company_ratings.csv\")\n",
    "\n",
    "# Show dataset info\n",
    "print(f\"Dataset size: {len(X)} companies\\n\")\n",
    "print(\"Class distribution:\")\n",
    "classes, counts = np.unique(y, return_counts=True)\n",
    "for cls, count in zip(classes, counts):\n",
    "    label = labels[cls]\n",
    "    print(f\"{label}: {count}\")"
   ]
  },
  {
   "cell_type": "markdown",
   "id": "2f13b987-f6cc-4edd-ab43-22791ee41723",
   "metadata": {},
   "source": [
    "### Train-Test Split and Initial Evaluation"
   ]
  },
  {
   "cell_type": "code",
   "execution_count": 5,
   "id": "7e747fac-6d66-44d0-81ed-b8ca14227583",
   "metadata": {},
   "outputs": [
    {
     "name": "stdout",
     "output_type": "stream",
     "text": [
      "Split sizes:\n",
      "Training set: 38 companies\n",
      "Test set: 10 companies\n",
      "\n",
      "Training and evaluating classifier...\n",
      "\n",
      "Test Set Performance:\n",
      "                precision    recall  f1-score   support\n",
      "\n",
      "       Bad fit       0.50      0.33      0.40         3\n",
      "      Good fit       1.00      0.33      0.50         3\n",
      "Need more info       0.43      0.75      0.55         4\n",
      "\n",
      "      accuracy                           0.50        10\n",
      "     macro avg       0.64      0.47      0.48        10\n",
      "  weighted avg       0.62      0.50      0.49        10\n",
      "\n"
     ]
    },
    {
     "name": "stderr",
     "output_type": "stream",
     "text": [
      "/Users/paul/src/recruiter-messager/.direnv/python-3.13/lib/python3.13/site-packages/sklearn/preprocessing/_encoders.py:246: UserWarning: Found unknown categories in columns [0] during transform. These unknown categories will be encoded as all zeros\n",
      "  warnings.warn(\n"
     ]
    }
   ],
   "source": [
    "# Split the data\n",
    "X_train, X_test, y_train, y_test = train_test_split(\n",
    "    X, y, test_size=0.2, random_state=42, stratify=y\n",
    ")\n",
    "\n",
    "print(\"Split sizes:\")\n",
    "print(f\"Training set: {len(X_train)} companies\")\n",
    "print(f\"Test set: {len(X_test)} companies\")\n",
    "\n",
    "# Train and evaluate\n",
    "print(\"\\nTraining and evaluating classifier...\")\n",
    "classifier = CompanyClassifier()\n",
    "classifier.fit(X_train, y_train)\n",
    "\n",
    "# Test set performance\n",
    "y_pred = classifier.predict(X_test)\n",
    "print(\"\\nTest Set Performance:\")\n",
    "print(\n",
    "    classification_report(\n",
    "        y_test, y_pred, target_names=[\"Bad fit\", \"Good fit\", \"Need more info\"]\n",
    "    )\n",
    ")"
   ]
  },
  {
   "cell_type": "markdown",
   "id": "c0ef9556-acb5-42fc-a788-3e336a15bd5b",
   "metadata": {},
   "source": [
    "### Cross-Validation Analysis"
   ]
  },
  {
   "cell_type": "code",
   "execution_count": 6,
   "id": "0c2e0ffe-55ba-4190-84c7-d3533162e1cf",
   "metadata": {},
   "outputs": [
    {
     "name": "stderr",
     "output_type": "stream",
     "text": [
      "/Users/paul/src/recruiter-messager/.direnv/python-3.13/lib/python3.13/site-packages/sklearn/preprocessing/_encoders.py:246: UserWarning: Found unknown categories in columns [0] during transform. These unknown categories will be encoded as all zeros\n",
      "  warnings.warn(\n"
     ]
    },
    {
     "name": "stdout",
     "output_type": "stream",
     "text": [
      "Cross-validation results:\n",
      "CV Accuracy: 0.69 (+/- 0.34)\n",
      "CV Balanced Accuracy: 0.69 (+/- 0.32)\n",
      "CV Precision: 0.74 (+/- 0.36)\n",
      "CV Recall: 0.69 (+/- 0.32)\n",
      "CV F1: 0.68 (+/- 0.35)\n",
      "\n",
      "Training vs Test Performance:\n",
      "Training Accuracy: 0.98\n",
      "Test Accuracy: 0.69\n"
     ]
    },
    {
     "name": "stderr",
     "output_type": "stream",
     "text": [
      "/Users/paul/src/recruiter-messager/.direnv/python-3.13/lib/python3.13/site-packages/sklearn/preprocessing/_encoders.py:246: UserWarning: Found unknown categories in columns [1] during transform. These unknown categories will be encoded as all zeros\n",
      "  warnings.warn(\n"
     ]
    }
   ],
   "source": [
    "# Perform cross-validation\n",
    "cv_results = classifier.cross_validate(\n",
    "    X, y, cv=5\n",
    ")\n",
    "\n",
    "print(\"Cross-validation results:\")\n",
    "print(\n",
    "    f\"CV Accuracy: {cv_results['test_accuracy'].mean():.2f} (+/- {cv_results['test_accuracy'].std() * 2:.2f})\"\n",
    ")\n",
    "print(\n",
    "    f\"CV Balanced Accuracy: {cv_results['test_balanced_accuracy'].mean():.2f} (+/- {cv_results['test_balanced_accuracy'].std() * 2:.2f})\"\n",
    ")\n",
    "print(\n",
    "    f\"CV Precision: {cv_results['test_precision_macro'].mean():.2f} (+/- {cv_results['test_precision_macro'].std() * 2:.2f})\"\n",
    ")\n",
    "print(\n",
    "    f\"CV Recall: {cv_results['test_recall_macro'].mean():.2f} (+/- {cv_results['test_recall_macro'].std() * 2:.2f})\"\n",
    ")\n",
    "print(\n",
    "    f\"CV F1: {cv_results['test_f1_macro'].mean():.2f} (+/- {cv_results['test_f1_macro'].std() * 2:.2f})\"\n",
    ")\n",
    "\n",
    "print(\"\\nTraining vs Test Performance:\")\n",
    "print(f\"Training Accuracy: {cv_results['train_accuracy'].mean():.2f}\")\n",
    "print(f\"Test Accuracy: {cv_results['test_accuracy'].mean():.2f}\")"
   ]
  },
  {
   "cell_type": "markdown",
   "id": "a9dc261c-70d1-4542-924c-c8d7280337f5",
   "metadata": {},
   "source": [
    "### Feature Importance Analysis\n"
   ]
  },
  {
   "cell_type": "code",
   "execution_count": 7,
   "id": "d3ac0f2a-8682-462f-ba1f-05e93027668a",
   "metadata": {},
   "outputs": [
    {
     "data": {
      "text/plain": [
       "<Figure size 1200x600 with 0 Axes>"
      ]
     },
     "metadata": {},
     "output_type": "display_data"
    },
    {
     "data": {
      "image/png": "[encoded data removed]",
      "text/plain": [
       "<Figure size 640x480 with 1 Axes>"
      ]
     },
     "metadata": {},
     "output_type": "display_data"
    }
   ],
   "source": [
    "# Analyze feature importance\n",
    "classifier.fit(X, y)  # Refit on full dataset\n",
    "importance = classifier.feature_importance()\n",
    "sorted_features = sorted(importance.items(), key=lambda x: x[1], reverse=True)\n",
    "\n",
    "# Create a DataFrame for better visualization\n",
    "importance_df = pd.DataFrame(sorted_features, columns=['Feature', 'Importance'])\n",
    "importance_df.set_index('Feature', inplace=True)\n",
    "\n",
    "# Plot feature importance\n",
    "plt.figure(figsize=(12, 6))\n",
    "ax = importance_df.plot(kind='bar')\n",
    "plt.title('Feature Importance')\n",
    "plt.xlabel('Features')\n",
    "plt.ylabel('Importance Score')\n",
    "plt.xticks(rotation=45, ha='right')\n",
    "plt.tight_layout()\n",
    "plt.show()"
   ]
  },
  {
   "cell_type": "code",
   "execution_count": 8,
   "id": "86e2a3b5-b2bd-422c-adce-89577efb12c6",
   "metadata": {},
   "outputs": [
    {
     "name": "stdout",
     "output_type": "stream",
     "text": [
      "Need more info\n",
      "Bad fit\n",
      "Need more info\n"
     ]
    },
    {
     "name": "stderr",
     "output_type": "stream",
     "text": [
      "/Users/paul/src/recruiter-messager/.direnv/python-3.13/lib/python3.13/site-packages/sklearn/preprocessing/_encoders.py:246: UserWarning: Found unknown categories in columns [0, 1] during transform. These unknown categories will be encoded as all zeros\n",
      "  warnings.warn(\n"
     ]
    }
   ],
   "source": [
    "# Let's play with some test cases\n",
    "good_bad_unknown = pd.DataFrame(\n",
    "    {\n",
    "        \"type\": [\"public\", \"private\", None],\n",
    "        \"total_comp\": [499000, 200, None],\n",
    "        \"base\": [399000, 99, None],\n",
    "        \"bonus\": [50000, 0, None],\n",
    "        \"rsu\": [50000, 0, None],\n",
    "        \"remote_policy\": [\"hybrid\", \"relocation required\", None],\n",
    "        \"total_size\": [5000, 5, None],\n",
    "        \"eng_size\": [1000, 2, None],\n",
    "    })\n",
    "result = classifier.predict(good_bad_unknown)\n",
    "for prediction in result:\n",
    "    print(prediction, labels[prediction])\n"
   ]
  },
  {
   "cell_type": "markdown",
   "id": "3396e687-c67f-4d4b-abaa-1f80f66f7ea2",
   "metadata": {},
   "source": [
    "## Analyzing / Visualizing predictions"
   ]
  },
  {
   "cell_type": "code",
   "execution_count": 36,
   "id": "9eb4424d-bf21-41ce-8f73-0a27df61d55c",
   "metadata": {},
   "outputs": [
    {
     "name": "stdout",
     "output_type": "stream",
     "text": [
      "Analyzing prediction for company 1\n",
      "Actual label: Bad fit\n",
      "================================================================================\n",
      "Prediction Explanation\n",
      "================================================================================\n",
      "\n",
      "Company Summary:\n",
      "Name: N/A\n",
      "Type: private\n",
      "Total Comp: $599000.0\n",
      "Remote Policy: relocation required\n",
      "\n",
      "================================================================================\n",
      "Preprocessing Steps:\n",
      "--------------------------------------------------\n",
      "\n",
      "Raw Input:\n",
      "total_comp      = 599000.0\n",
      "base            = 499000.0\n",
      "rsu             = 0.0\n",
      "bonus           = 100000.0\n",
      "eng_size        = 2.0\n",
      "total_size      = 5.0\n",
      "type            = private\n",
      "remote_policy   = relocation required\n",
      "\n",
      "Remote Policy Normalization:\n",
      "Raw      = relocation required\n",
      "Normalized = relocation\n",
      "\n",
      "Numeric Feature Processing:\n",
      "total_comp      = 599000.0 -> 599000.0 (Missing: False)\n",
      "base            = 499000.0 -> 499000.0 (Missing: False)\n",
      "rsu             = 0.0 -> 0.0 (Missing: False)\n",
      "bonus           = 100000.0 -> 100000.0 (Missing: False)\n",
      "eng_size        = 2.0 -> 2.0 (Missing: False)\n",
      "total_size      = 5.0 -> 5.0 (Missing: False)\n",
      "\n",
      "Categorical Encoding:\n",
      "type            = private\n",
      "remote_policy   = relocation required\n",
      "\n",
      "Final Feature Vector:\n",
      "num__total_comp                = 599000.000\n",
      "num__base                      = 499000.000\n",
      "num__rsu                       = 0.000\n",
      "num__bonus                     = 100000.000\n",
      "num__eng_size                  = 2.000\n",
      "num__total_size                = 5.000\n",
      "num__missingindicator_total_comp = 0.000\n",
      "num__missingindicator_base     = 0.000\n",
      "num__missingindicator_rsu      = 0.000\n",
      "num__missingindicator_bonus    = 0.000\n",
      "num__missingindicator_eng_size = 0.000\n",
      "num__missingindicator_total_size = 0.000\n",
      "cat__type_private finance      = 0.000\n",
      "cat__type_private unicorn      = 0.000\n",
      "cat__type_public               = 0.000\n",
      "cat__remote_policy_nan         = 0.000\n",
      "cat__remote_policy_office      = 0.000\n",
      "cat__remote_policy_relocation  = 1.000\n",
      "cat__remote_policy_remote      = 0.000\n",
      "\n",
      "================================================================================\n",
      "Random Forest Decision Analysis:\n",
      "--------------------------------------------------\n",
      "\n",
      "Class Probabilities:\n",
      "Bad fit         = 0.378\n",
      "Good fit        = 0.380\n",
      "Need more info  = 0.242\n",
      "\n",
      "Confidence Check:\n",
      "Max probability: 0.380\n",
      "Threshold: 0.5\n",
      "Confidence insufficient\n",
      "\n",
      "Final Prediction: Need more info\n",
      "\n",
      "Top 5 Most Important Features for Model:\n",
      "num__total_comp                = 0.243\n",
      "num__base                      = 0.196\n",
      "num__rsu                       = 0.128\n",
      "num__bonus                     = 0.113\n",
      "num__total_size                = 0.094\n"
     ]
    }
   ],
   "source": [
    "### Prediction Explanation Tools\n",
    "\n",
    "from company_classifier import preprocess\n",
    "\n",
    "def explain_preprocessing(company_data: pd.Series, preprocessor: preprocess.CompanyPreprocessor):\n",
    "    \"\"\"Show how each feature is preprocessed.\"\"\"\n",
    "    print(\"Preprocessing Steps:\")\n",
    "    print(\"-\" * 50)\n",
    "    \n",
    "    # Show raw input\n",
    "    print(\"\\nRaw Input:\")\n",
    "    for feature in preprocessor.numeric_features + preprocessor.categorical_features:\n",
    "        print(f\"{feature:15} = {company_data[feature]}\")\n",
    "    \n",
    "    # Show remote policy normalization\n",
    "    raw_policy = company_data[\"remote_policy\"]\n",
    "    normalized_policy = preprocessor.remote_policy_normalizer.transform(pd.Series([raw_policy]))[0]\n",
    "    print(f\"\\nRemote Policy Normalization:\")\n",
    "    print(f\"Raw      = {raw_policy}\")\n",
    "    print(f\"Normalized = {normalized_policy}\")\n",
    "    \n",
    "    # Show numeric feature handling\n",
    "    print(\"\\nNumeric Feature Processing:\")\n",
    "    for feature in preprocessor.numeric_features:\n",
    "        value = company_data[feature]\n",
    "        is_missing = pd.isna(value)\n",
    "        final_value = 0 if is_missing else value\n",
    "        print(f\"{feature:15} = {value} -> {final_value} (Missing: {is_missing})\")\n",
    "    \n",
    "    # Show categorical encoding\n",
    "    print(\"\\nCategorical Encoding:\")\n",
    "    for feature in preprocessor.categorical_features:\n",
    "        value = company_data[feature]\n",
    "        print(f\"{feature:15} = {value}\")\n",
    "    \n",
    "    # Show final feature vector\n",
    "    transformed = preprocessor.transform(pd.DataFrame([company_data]))\n",
    "    feature_names = preprocessor.get_feature_names()\n",
    "    print(\"\\nFinal Feature Vector:\")\n",
    "    for name, value in zip(feature_names, transformed[0]):\n",
    "        print(f\"{name:30} = {value:.3f}\")\n",
    "\n",
    "def explain_random_forest_decision(clf: CompanyClassifier, X_single: pd.DataFrame):\n",
    "    \"\"\"Explain how the Random Forest made its decision.\"\"\"\n",
    "    # Get preprocessed features\n",
    "    X_transformed = clf.preprocessor.transform(X_single)\n",
    "    feature_names = clf.preprocessor.get_feature_names()\n",
    "    \n",
    "    # Get probabilities\n",
    "    probas = clf.predict_proba(X_single)[0]\n",
    "    prediction = clf.predict(X_single)[0]\n",
    "    \n",
    "    print(\"Random Forest Decision Analysis:\")\n",
    "    print(\"-\" * 50)\n",
    "    \n",
    "    # Show class probabilities\n",
    "    print(\"\\nClass Probabilities:\")\n",
    "    for class_idx, prob in enumerate(probas):\n",
    "        class_name = labels[class_idx]\n",
    "        print(f\"{class_name:15} = {prob:.3f}\")\n",
    "    \n",
    "    # Show confidence threshold check\n",
    "    max_proba = max(probas)\n",
    "    print(f\"\\nConfidence Check:\")\n",
    "    print(f\"Max probability: {max_proba:.3f}\")\n",
    "    print(f\"Threshold: 0.5\")\n",
    "    print(f\"Confidence {'sufficient' if max_proba >= 0.5 else 'insufficient'}\")\n",
    "    \n",
    "    # Show final decision\n",
    "    print(f\"\\nFinal Prediction: {labels[prediction]}\")\n",
    "    \n",
    "    # Show feature importance for this prediction\n",
    "    importances = clf.feature_importance()\n",
    "    print(\"\\nTop 5 Most Important Features for Model:\")\n",
    "    sorted_features = sorted(importances.items(), key=lambda x: x[1], reverse=True)[:5]\n",
    "    for feature, importance in sorted_features:\n",
    "        print(f\"{feature:30} = {importance:.3f}\")\n",
    "\n",
    "def explain_prediction(clf: CompanyClassifier, company_data: pd.Series):\n",
    "    \"\"\"Provide a complete explanation of a prediction.\"\"\"\n",
    "    print(\"=\" * 80)\n",
    "    print(\"Prediction Explanation\")\n",
    "    print(\"=\" * 80)\n",
    "    \n",
    "    # Show input summary\n",
    "    print(\"\\nCompany Summary:\")\n",
    "    print(f\"Name: {company_data.get('name', 'N/A')}\")\n",
    "    print(f\"Type: {company_data.get('type', 'N/A')}\")\n",
    "    print(f\"Total Comp: ${company_data.get('total_comp', 'N/A')}\")\n",
    "    print(f\"Remote Policy: {company_data.get('remote_policy', 'N/A')}\")\n",
    "    \n",
    "    print(\"\\n\" + \"=\" * 80)\n",
    "    explain_preprocessing(company_data, clf.preprocessor)\n",
    "    \n",
    "    print(\"\\n\" + \"=\" * 80)\n",
    "    explain_random_forest_decision(clf, pd.DataFrame([company_data]))\n",
    "\n",
    "# Example usage:\n",
    "# Pick a company you want to understand\n",
    "company_idx = 1  # Change this to analyze different companies\n",
    "company_to_explain = good_bad_unknown.iloc[company_idx]\n",
    "actual_label = labels[y_test[company_idx]]\n",
    "\n",
    "print(f\"Analyzing prediction for company {company_idx}\")\n",
    "print(f\"Actual label: {actual_label}\")\n",
    "explain_prediction(classifier, company_to_explain)"
   ]
  },
  {
   "cell_type": "code",
   "execution_count": null,
   "id": "e280b4ab-174b-41d2-9d04-c37ef6c1e0fa",
   "metadata": {},
   "outputs": [],
   "source": []
  }
 ],
 "metadata": {
  "kernelspec": {
   "display_name": "Python 3 (ipykernel)",
   "language": "python",
   "name": "python3"
  },
  "language_info": {
   "codemirror_mode": {
    "name": "ipython",
    "version": 3
   },
   "file_extension": ".py",
   "mimetype": "text/x-python",
   "name": "python",
   "nbconvert_exporter": "python",
   "pygments_lexer": "ipython3",
   "version": "3.13.3"
  }
 },
 "nbformat": 4,
 "nbformat_minor": 5
}

{
 "cells": [
  {
   "cell_type": "markdown",
   "id": "52f977f7-25d4-47a4-ad94-83305540dc62",
   "metadata": {},
   "source": [
    "## Company classifier notebook\n",
    "\n",
    "This is for experimenting with the company fit classifier.\n",
    "Visualizations, etc can go here."
   ]
  },
  {
   "cell_type": "code",
   "execution_count": 3,
   "id": "2f419477-ffd6-42df-830f-f6e44e03466e",
   "metadata": {},
   "outputs": [
    {
     "name": "stdout",
     "output_type": "stream",
     "text": [
      "hello world\n"
     ]
    }
   ],
   "source": [
    "print(\"hello world\")"
   ]
  },
  {
   "cell_type": "markdown",
   "id": "a5dfe8ee-aa5f-49a9-b9b7-486f73765606",
   "metadata": {},
   "source": [
    "### Setup and Imports"
   ]
  },
  {
   "cell_type": "code",
   "execution_count": 4,
   "id": "ea258ccc-a70c-46ad-8411-5455a0d16ae3",
   "metadata": {},
   "outputs": [],
   "source": [
    "import sys\n",
    "import os\n",
    "# Add parent directory to Python path so we can import company_classifier\n",
    "sys.path.append(os.path.dirname(os.getcwd()))\n",
    "\n",
    "import numpy as np\n",
    "import pandas as pd\n",
    "import matplotlib.pyplot as plt\n",
    "from sklearn.metrics import classification_report\n",
    "from sklearn.model_selection import train_test_split\n",
    "\n",
    "from company_classifier.classifier import (\n",
    "    BAD_FIT,\n",
    "    GOOD_FIT,\n",
    "    NEED_MORE_INFO,\n",
    "    CompanyClassifier,\n",
    ")"
   ]
  },
  {
   "cell_type": "code",
   "execution_count": null,
   "id": "bd52f1c4-9516-4c40-b556-4654003b7260",
   "metadata": {},
   "outputs": [],
   "source": []
  }
 ],
 "metadata": {
  "kernelspec": {
   "display_name": "Python 3 (ipykernel)",
   "language": "python",
   "name": "python3"
  },
  "language_info": {
   "codemirror_mode": {
    "name": "ipython",
    "version": 3
   },
   "file_extension": ".py",
   "mimetype": "text/x-python",
   "name": "python",
   "nbconvert_exporter": "python",
   "pygments_lexer": "ipython3",
   "version": "3.13.3"
  }
 },
 "nbformat": 4,
 "nbformat_minor": 5
}

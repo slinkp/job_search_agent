{
 "cells": [
  {
   "cell_type": "markdown",
   "id": "52f977f7-25d4-47a4-ad94-83305540dc62",
   "metadata": {},
   "source": [
    "## Company classifier notebook\n",
    "\n",
    "This is for experimenting with the company fit classifier.\n",
    "Visualizations, etc can go here."
   ]
  },
  {
   "cell_type": "code",
   "execution_count": 1,
   "id": "2f419477-ffd6-42df-830f-f6e44e03466e",
   "metadata": {},
   "outputs": [
    {
     "name": "stdout",
     "output_type": "stream",
     "text": [
      "hello world\n"
     ]
    }
   ],
   "source": [
    "print(\"hello world\")"
   ]
  },
  {
   "cell_type": "markdown",
   "id": "a5dfe8ee-aa5f-49a9-b9b7-486f73765606",
   "metadata": {},
   "source": [
    "### Setup and Imports"
   ]
  },
  {
   "cell_type": "code",
   "execution_count": 2,
   "id": "ea258ccc-a70c-46ad-8411-5455a0d16ae3",
   "metadata": {},
   "outputs": [],
   "source": [
    "import sys\n",
    "import os\n",
    "# Add parent directory to Python path so we can import company_classifier\n",
    "sys.path.append(os.path.dirname(os.getcwd()))\n",
    "\n",
    "import numpy as np\n",
    "import pandas as pd\n",
    "import matplotlib.pyplot as plt\n",
    "from sklearn.metrics import classification_report\n",
    "from sklearn.model_selection import train_test_split\n",
    "\n",
    "from company_classifier.classifier import (\n",
    "    BAD_FIT,\n",
    "    GOOD_FIT,\n",
    "    NEED_MORE_INFO,\n",
    "    CompanyClassifier,\n",
    ")"
   ]
  },
  {
   "cell_type": "markdown",
   "id": "08ccad5f-9920-487c-88ae-530181fdb87a",
   "metadata": {},
   "source": [
    "### Load and Prepare Data"
   ]
  },
  {
   "cell_type": "code",
   "execution_count": 3,
   "id": "2dfa3063-911b-4b6e-88e2-2322685c3c62",
   "metadata": {},
   "outputs": [],
   "source": [
    "labels = {\n",
    "    GOOD_FIT: \"Good fit\",\n",
    "    BAD_FIT: \"Bad fit\",\n",
    "    NEED_MORE_INFO: \"Need more info\",\n",
    "}"
   ]
  },
  {
   "cell_type": "code",
   "execution_count": 4,
   "id": "03b06ec7-af43-44bc-a904-215ee11bd7cd",
   "metadata": {},
   "outputs": [
    {
     "name": "stdout",
     "output_type": "stream",
     "text": [
      "Dataset size: 47 companies\n",
      "\n",
      "Class distribution:\n",
      "Bad fit: 9\n",
      "Good fit: 22\n",
      "Need more info: 16\n"
     ]
    }
   ],
   "source": [
    "def load_real_data(csv_path: str) -> tuple[pd.DataFrame, np.ndarray]:\n",
    "    \"\"\"Load and prepare real company data.\"\"\"\n",
    "    df = pd.read_csv(csv_path)\n",
    "\n",
    "    # Map text categories to numeric values\n",
    "    category_map = {\"good\": GOOD_FIT, \"bad\": BAD_FIT, \"needs_more_info\": NEED_MORE_INFO}\n",
    "\n",
    "    # Extract features used by our classifier\n",
    "    X = df[\n",
    "        [\n",
    "            \"type\",\n",
    "            \"total_comp\",\n",
    "            \"base\",\n",
    "            \"rsu\",\n",
    "            \"bonus\",\n",
    "            \"remote_policy\",\n",
    "            \"eng_size\",\n",
    "            \"total_size\",\n",
    "        ]\n",
    "    ]\n",
    "\n",
    "    # Convert fit categories to numeric values\n",
    "    y = df[\"fit_category\"].map(category_map).to_numpy()\n",
    "\n",
    "    return X, y\n",
    "\n",
    "# Load the data\n",
    "X, y = load_real_data(\"../company_ratings.csv\")\n",
    "\n",
    "# Show dataset info\n",
    "print(f\"Dataset size: {len(X)} companies\\n\")\n",
    "print(\"Class distribution:\")\n",
    "classes, counts = np.unique(y, return_counts=True)\n",
    "for cls, count in zip(classes, counts):\n",
    "    label = labels[cls]\n",
    "    print(f\"{label}: {count}\")"
   ]
  },
  {
   "cell_type": "markdown",
   "id": "2f13b987-f6cc-4edd-ab43-22791ee41723",
   "metadata": {},
   "source": [
    "### Train-Test Split and Initial Evaluation"
   ]
  },
  {
   "cell_type": "code",
   "execution_count": 5,
   "id": "7e747fac-6d66-44d0-81ed-b8ca14227583",
   "metadata": {},
   "outputs": [
    {
     "name": "stdout",
     "output_type": "stream",
     "text": [
      "Split sizes:\n",
      "Training set: 37 companies\n",
      "Test set: 10 companies\n",
      "\n",
      "Training and evaluating classifier...\n",
      "\n",
      "Test Set Performance:\n",
      "                precision    recall  f1-score   support\n",
      "\n",
      "       Bad fit       1.00      1.00      1.00         2\n",
      "      Good fit       0.71      1.00      0.83         5\n",
      "Need more info       1.00      0.33      0.50         3\n",
      "\n",
      "      accuracy                           0.80        10\n",
      "     macro avg       0.90      0.78      0.78        10\n",
      "  weighted avg       0.86      0.80      0.77        10\n",
      "\n"
     ]
    },
    {
     "name": "stderr",
     "output_type": "stream",
     "text": [
      "/Users/paul/src/recruiter-messager/.direnv/python-3.13/lib/python3.13/site-packages/sklearn/preprocessing/_encoders.py:246: UserWarning: Found unknown categories in columns [0] during transform. These unknown categories will be encoded as all zeros\n",
      "  warnings.warn(\n"
     ]
    }
   ],
   "source": [
    "# Split the data\n",
    "X_train, X_test, y_train, y_test = train_test_split(\n",
    "    X, y, test_size=0.2, random_state=42, stratify=y\n",
    ")\n",
    "\n",
    "print(\"Split sizes:\")\n",
    "print(f\"Training set: {len(X_train)} companies\")\n",
    "print(f\"Test set: {len(X_test)} companies\")\n",
    "\n",
    "# Train and evaluate\n",
    "print(\"\\nTraining and evaluating classifier...\")\n",
    "classifier = CompanyClassifier()\n",
    "classifier.fit(X_train, y_train)\n",
    "\n",
    "# Test set performance\n",
    "y_pred = classifier.predict(X_test)\n",
    "print(\"\\nTest Set Performance:\")\n",
    "print(\n",
    "    classification_report(\n",
    "        y_test, y_pred, target_names=[\"Bad fit\", \"Good fit\", \"Need more info\"]\n",
    "    )\n",
    ")"
   ]
  },
  {
   "cell_type": "markdown",
   "id": "c0ef9556-acb5-42fc-a788-3e336a15bd5b",
   "metadata": {},
   "source": [
    "### Cross-Validation Analysis"
   ]
  },
  {
   "cell_type": "code",
   "execution_count": 6,
   "id": "0c2e0ffe-55ba-4190-84c7-d3533162e1cf",
   "metadata": {},
   "outputs": [
    {
     "name": "stderr",
     "output_type": "stream",
     "text": [
      "/Users/paul/src/recruiter-messager/.direnv/python-3.13/lib/python3.13/site-packages/sklearn/preprocessing/_encoders.py:246: UserWarning: Found unknown categories in columns [1] during transform. These unknown categories will be encoded as all zeros\n",
      "  warnings.warn(\n"
     ]
    },
    {
     "name": "stdout",
     "output_type": "stream",
     "text": [
      "Cross-validation results:\n",
      "CV Accuracy: 0.83 (+/- 0.27)\n",
      "CV Balanced Accuracy: 0.82 (+/- 0.27)\n",
      "CV Precision: 0.89 (+/- 0.20)\n",
      "CV Recall: 0.82 (+/- 0.27)\n",
      "CV F1: 0.83 (+/- 0.26)\n",
      "\n",
      "Training vs Test Performance:\n",
      "Training Accuracy: 1.00\n",
      "Test Accuracy: 0.83\n"
     ]
    },
    {
     "name": "stderr",
     "output_type": "stream",
     "text": [
      "/Users/paul/src/recruiter-messager/.direnv/python-3.13/lib/python3.13/site-packages/sklearn/preprocessing/_encoders.py:246: UserWarning: Found unknown categories in columns [0] during transform. These unknown categories will be encoded as all zeros\n",
      "  warnings.warn(\n"
     ]
    }
   ],
   "source": [
    "# Perform cross-validation\n",
    "cv_results = classifier.cross_validate(\n",
    "    X, y, cv=5\n",
    ")\n",
    "\n",
    "print(\"Cross-validation results:\")\n",
    "print(\n",
    "    f\"CV Accuracy: {cv_results['test_accuracy'].mean():.2f} (+/- {cv_results['test_accuracy'].std() * 2:.2f})\"\n",
    ")\n",
    "print(\n",
    "    f\"CV Balanced Accuracy: {cv_results['test_balanced_accuracy'].mean():.2f} (+/- {cv_results['test_balanced_accuracy'].std() * 2:.2f})\"\n",
    ")\n",
    "print(\n",
    "    f\"CV Precision: {cv_results['test_precision_macro'].mean():.2f} (+/- {cv_results['test_precision_macro'].std() * 2:.2f})\"\n",
    ")\n",
    "print(\n",
    "    f\"CV Recall: {cv_results['test_recall_macro'].mean():.2f} (+/- {cv_results['test_recall_macro'].std() * 2:.2f})\"\n",
    ")\n",
    "print(\n",
    "    f\"CV F1: {cv_results['test_f1_macro'].mean():.2f} (+/- {cv_results['test_f1_macro'].std() * 2:.2f})\"\n",
    ")\n",
    "\n",
    "print(\"\\nTraining vs Test Performance:\")\n",
    "print(f\"Training Accuracy: {cv_results['train_accuracy'].mean():.2f}\")\n",
    "print(f\"Test Accuracy: {cv_results['test_accuracy'].mean():.2f}\")"
   ]
  },
  {
   "cell_type": "markdown",
   "id": "a9dc261c-70d1-4542-924c-c8d7280337f5",
   "metadata": {},
   "source": [
    "### Feature Importance Analysis\n"
   ]
  },
  {
   "cell_type": "code",
   "execution_count": 7,
   "id": "d3ac0f2a-8682-462f-ba1f-05e93027668a",
   "metadata": {},
   "outputs": [
    {
     "data": {
      "text/plain": [
       "<Figure size 1200x600 with 0 Axes>"
      ]
     },
     "metadata": {},
     "output_type": "display_data"
    },
    {
     "data": {
      "image/png": "[encoded data removed]",
      "text/plain": [
       "<Figure size 640x480 with 1 Axes>"
      ]
     },
     "metadata": {},
     "output_type": "display_data"
    }
   ],
   "source": [
    "# Analyze feature importance\n",
    "classifier.fit(X, y)  # Refit on full dataset\n",
    "importance = classifier.feature_importance()\n",
    "sorted_features = sorted(importance.items(), key=lambda x: x[1], reverse=True)\n",
    "\n",
    "# Create a DataFrame for better visualization\n",
    "importance_df = pd.DataFrame(sorted_features, columns=['Feature', 'Importance'])\n",
    "importance_df.set_index('Feature', inplace=True)\n",
    "\n",
    "# Plot feature importance\n",
    "plt.figure(figsize=(12, 6))\n",
    "ax = importance_df.plot(kind='bar')\n",
    "plt.title('Feature Importance')\n",
    "plt.xlabel('Features')\n",
    "plt.ylabel('Importance Score')\n",
    "plt.xticks(rotation=45, ha='right')\n",
    "plt.tight_layout()\n",
    "plt.show()"
   ]
  },
  {
   "cell_type": "code",
   "execution_count": 8,
   "id": "86e2a3b5-b2bd-422c-adce-89577efb12c6",
   "metadata": {},
   "outputs": [
    {
     "name": "stdout",
     "output_type": "stream",
     "text": [
      "Good fit\n",
      "Bad fit\n",
      "Need more info\n"
     ]
    },
    {
     "name": "stderr",
     "output_type": "stream",
     "text": [
      "/Users/paul/src/recruiter-messager/.direnv/python-3.13/lib/python3.13/site-packages/sklearn/preprocessing/_encoders.py:246: UserWarning: Found unknown categories in columns [0, 1] during transform. These unknown categories will be encoded as all zeros\n",
      "  warnings.warn(\n"
     ]
    }
   ],
   "source": [
    "# Let's play with some test cases\n",
    "good_bad_unknown = pd.DataFrame(\n",
    "    {\n",
    "        \"type\": [\"public\", \"private\", None],\n",
    "        \"total_comp\": [499000, 200, None],\n",
    "        \"base\": [399000, 99, None],\n",
    "        \"bonus\": [50000, 0, None],\n",
    "        \"rsu\": [50000, 0, None],\n",
    "        \"remote_policy\": [\"hybrid\", \"relocation required\", None],\n",
    "        \"total_size\": [5000, 5, None],\n",
    "        \"eng_size\": [1000, 2, None],\n",
    "    })\n",
    "result = classifier.predict(good_bad_unknown)\n",
    "for prediction in result:\n",
    "    print(labels[prediction])\n"
   ]
  },
  {
   "cell_type": "code",
   "execution_count": null,
   "id": "1f2228cf-621d-407e-8373-4fbddb2e9a1e",
   "metadata": {},
   "outputs": [],
   "source": []
  }
 ],
 "metadata": {
  "kernelspec": {
   "display_name": "Python 3 (ipykernel)",
   "language": "python",
   "name": "python3"
  },
  "language_info": {
   "codemirror_mode": {
    "name": "ipython",
    "version": 3
   },
   "file_extension": ".py",
   "mimetype": "text/x-python",
   "name": "python",
   "nbconvert_exporter": "python",
   "pygments_lexer": "ipython3",
   "version": "3.13.3"
  }
 },
 "nbformat": 4,
 "nbformat_minor": 5
}

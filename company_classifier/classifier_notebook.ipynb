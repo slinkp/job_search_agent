{
 "cells": [
  {
   "cell_type": "markdown",
   "id": "52f977f7-25d4-47a4-ad94-83305540dc62",
   "metadata": {},
   "source": [
    "## Company classifier notebook\n",
    "\n",
    "This is for experimenting with the company fit classifier.\n",
    "Visualizations, etc can go here."
   ]
  },
  {
   "cell_type": "code",
   "execution_count": 3,
   "id": "2f419477-ffd6-42df-830f-f6e44e03466e",
   "metadata": {},
   "outputs": [
    {
     "name": "stdout",
     "output_type": "stream",
     "text": [
      "hello world\n"
     ]
    }
   ],
   "source": [
    "print(\"hello world\")"
   ]
  }
 ],
 "metadata": {
  "kernelspec": {
   "display_name": "Python 3 (ipykernel)",
   "language": "python",
   "name": "python3"
  },
  "language_info": {
   "codemirror_mode": {
    "name": "ipython",
    "version": 3
   },
   "file_extension": ".py",
   "mimetype": "text/x-python",
   "name": "python",
   "nbconvert_exporter": "python",
   "pygments_lexer": "ipython3",
   "version": "3.13.3"
  }
 },
 "nbformat": 4,
 "nbformat_minor": 5
}
